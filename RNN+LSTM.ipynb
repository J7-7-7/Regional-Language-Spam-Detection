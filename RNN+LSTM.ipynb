{
  "nbformat": 4,
  "nbformat_minor": 0,
  "metadata": {
    "colab": {
      "provenance": []
    },
    "kernelspec": {
      "name": "python3",
      "display_name": "Python 3"
    },
    "language_info": {
      "name": "python"
    }
  },
  "cells": [
    {
      "cell_type": "code",
      "execution_count": null,
      "metadata": {
        "id": "EufLCHUV6QnX"
      },
      "outputs": [],
      "source": [
        "from keras.layers import SimpleRNN, Embedding, Dense, LSTM\n",
        "from keras.models import Sequential\n",
        "\n",
        "import pandas as pd\n",
        "import numpy as np\n",
        "import matplotlib.pyplot as plt\n",
        "%matplotlib inline\n",
        "import seaborn as sns; sns.set()"
      ]
    },
    {
      "cell_type": "code",
      "source": [
        "from google.colab import files\n",
        "df = files.upload()"
      ],
      "metadata": {
        "colab": {
          "base_uri": "https://localhost:8080/",
          "height": 74
        },
        "id": "W2f_E33j6ck5",
        "outputId": "13d1ea1e-734f-4e90-d00f-dfd19c2ec607"
      },
      "execution_count": null,
      "outputs": [
        {
          "output_type": "display_data",
          "data": {
            "text/plain": [
              "<IPython.core.display.HTML object>"
            ],
            "text/html": [
              "\n",
              "     <input type=\"file\" id=\"files-4a305a48-ae18-40e4-b3d7-2e181af40ec1\" name=\"files[]\" multiple disabled\n",
              "        style=\"border:none\" />\n",
              "     <output id=\"result-4a305a48-ae18-40e4-b3d7-2e181af40ec1\">\n",
              "      Upload widget is only available when the cell has been executed in the\n",
              "      current browser session. Please rerun this cell to enable.\n",
              "      </output>\n",
              "      <script>// Copyright 2017 Google LLC\n",
              "//\n",
              "// Licensed under the Apache License, Version 2.0 (the \"License\");\n",
              "// you may not use this file except in compliance with the License.\n",
              "// You may obtain a copy of the License at\n",
              "//\n",
              "//      http://www.apache.org/licenses/LICENSE-2.0\n",
              "//\n",
              "// Unless required by applicable law or agreed to in writing, software\n",
              "// distributed under the License is distributed on an \"AS IS\" BASIS,\n",
              "// WITHOUT WARRANTIES OR CONDITIONS OF ANY KIND, either express or implied.\n",
              "// See the License for the specific language governing permissions and\n",
              "// limitations under the License.\n",
              "\n",
              "/**\n",
              " * @fileoverview Helpers for google.colab Python module.\n",
              " */\n",
              "(function(scope) {\n",
              "function span(text, styleAttributes = {}) {\n",
              "  const element = document.createElement('span');\n",
              "  element.textContent = text;\n",
              "  for (const key of Object.keys(styleAttributes)) {\n",
              "    element.style[key] = styleAttributes[key];\n",
              "  }\n",
              "  return element;\n",
              "}\n",
              "\n",
              "// Max number of bytes which will be uploaded at a time.\n",
              "const MAX_PAYLOAD_SIZE = 100 * 1024;\n",
              "\n",
              "function _uploadFiles(inputId, outputId) {\n",
              "  const steps = uploadFilesStep(inputId, outputId);\n",
              "  const outputElement = document.getElementById(outputId);\n",
              "  // Cache steps on the outputElement to make it available for the next call\n",
              "  // to uploadFilesContinue from Python.\n",
              "  outputElement.steps = steps;\n",
              "\n",
              "  return _uploadFilesContinue(outputId);\n",
              "}\n",
              "\n",
              "// This is roughly an async generator (not supported in the browser yet),\n",
              "// where there are multiple asynchronous steps and the Python side is going\n",
              "// to poll for completion of each step.\n",
              "// This uses a Promise to block the python side on completion of each step,\n",
              "// then passes the result of the previous step as the input to the next step.\n",
              "function _uploadFilesContinue(outputId) {\n",
              "  const outputElement = document.getElementById(outputId);\n",
              "  const steps = outputElement.steps;\n",
              "\n",
              "  const next = steps.next(outputElement.lastPromiseValue);\n",
              "  return Promise.resolve(next.value.promise).then((value) => {\n",
              "    // Cache the last promise value to make it available to the next\n",
              "    // step of the generator.\n",
              "    outputElement.lastPromiseValue = value;\n",
              "    return next.value.response;\n",
              "  });\n",
              "}\n",
              "\n",
              "/**\n",
              " * Generator function which is called between each async step of the upload\n",
              " * process.\n",
              " * @param {string} inputId Element ID of the input file picker element.\n",
              " * @param {string} outputId Element ID of the output display.\n",
              " * @return {!Iterable<!Object>} Iterable of next steps.\n",
              " */\n",
              "function* uploadFilesStep(inputId, outputId) {\n",
              "  const inputElement = document.getElementById(inputId);\n",
              "  inputElement.disabled = false;\n",
              "\n",
              "  const outputElement = document.getElementById(outputId);\n",
              "  outputElement.innerHTML = '';\n",
              "\n",
              "  const pickedPromise = new Promise((resolve) => {\n",
              "    inputElement.addEventListener('change', (e) => {\n",
              "      resolve(e.target.files);\n",
              "    });\n",
              "  });\n",
              "\n",
              "  const cancel = document.createElement('button');\n",
              "  inputElement.parentElement.appendChild(cancel);\n",
              "  cancel.textContent = 'Cancel upload';\n",
              "  const cancelPromise = new Promise((resolve) => {\n",
              "    cancel.onclick = () => {\n",
              "      resolve(null);\n",
              "    };\n",
              "  });\n",
              "\n",
              "  // Wait for the user to pick the files.\n",
              "  const files = yield {\n",
              "    promise: Promise.race([pickedPromise, cancelPromise]),\n",
              "    response: {\n",
              "      action: 'starting',\n",
              "    }\n",
              "  };\n",
              "\n",
              "  cancel.remove();\n",
              "\n",
              "  // Disable the input element since further picks are not allowed.\n",
              "  inputElement.disabled = true;\n",
              "\n",
              "  if (!files) {\n",
              "    return {\n",
              "      response: {\n",
              "        action: 'complete',\n",
              "      }\n",
              "    };\n",
              "  }\n",
              "\n",
              "  for (const file of files) {\n",
              "    const li = document.createElement('li');\n",
              "    li.append(span(file.name, {fontWeight: 'bold'}));\n",
              "    li.append(span(\n",
              "        `(${file.type || 'n/a'}) - ${file.size} bytes, ` +\n",
              "        `last modified: ${\n",
              "            file.lastModifiedDate ? file.lastModifiedDate.toLocaleDateString() :\n",
              "                                    'n/a'} - `));\n",
              "    const percent = span('0% done');\n",
              "    li.appendChild(percent);\n",
              "\n",
              "    outputElement.appendChild(li);\n",
              "\n",
              "    const fileDataPromise = new Promise((resolve) => {\n",
              "      const reader = new FileReader();\n",
              "      reader.onload = (e) => {\n",
              "        resolve(e.target.result);\n",
              "      };\n",
              "      reader.readAsArrayBuffer(file);\n",
              "    });\n",
              "    // Wait for the data to be ready.\n",
              "    let fileData = yield {\n",
              "      promise: fileDataPromise,\n",
              "      response: {\n",
              "        action: 'continue',\n",
              "      }\n",
              "    };\n",
              "\n",
              "    // Use a chunked sending to avoid message size limits. See b/62115660.\n",
              "    let position = 0;\n",
              "    do {\n",
              "      const length = Math.min(fileData.byteLength - position, MAX_PAYLOAD_SIZE);\n",
              "      const chunk = new Uint8Array(fileData, position, length);\n",
              "      position += length;\n",
              "\n",
              "      const base64 = btoa(String.fromCharCode.apply(null, chunk));\n",
              "      yield {\n",
              "        response: {\n",
              "          action: 'append',\n",
              "          file: file.name,\n",
              "          data: base64,\n",
              "        },\n",
              "      };\n",
              "\n",
              "      let percentDone = fileData.byteLength === 0 ?\n",
              "          100 :\n",
              "          Math.round((position / fileData.byteLength) * 100);\n",
              "      percent.textContent = `${percentDone}% done`;\n",
              "\n",
              "    } while (position < fileData.byteLength);\n",
              "  }\n",
              "\n",
              "  // All done.\n",
              "  yield {\n",
              "    response: {\n",
              "      action: 'complete',\n",
              "    }\n",
              "  };\n",
              "}\n",
              "\n",
              "scope.google = scope.google || {};\n",
              "scope.google.colab = scope.google.colab || {};\n",
              "scope.google.colab._files = {\n",
              "  _uploadFiles,\n",
              "  _uploadFilesContinue,\n",
              "};\n",
              "})(self);\n",
              "</script> "
            ]
          },
          "metadata": {}
        },
        {
          "output_type": "stream",
          "name": "stdout",
          "text": [
            "Saving HINDI DATASET.csv.xls to HINDI DATASET.csv.xls\n"
          ]
        }
      ]
    },
    {
      "cell_type": "code",
      "source": [
        "import io\n",
        "df = pd.read_csv(io.BytesIO(df['HINDI DATASET.csv.xls']))"
      ],
      "metadata": {
        "id": "NuOyewwc7CWB"
      },
      "execution_count": null,
      "outputs": []
    },
    {
      "cell_type": "code",
      "source": [
        "texts = []\n",
        "labels = []\n",
        "for i, label in enumerate(df['labels']):\n",
        "    texts.append(df['text_hi'][i])\n",
        "    if label == 'ham':\n",
        "        labels.append(0)\n",
        "    else:\n",
        "        labels.append(1)\n",
        "\n",
        "texts = np.asarray(texts)\n",
        "labels = np.asarray(labels)\n",
        "\n",
        "\n",
        "print(\"number of texts :\" , len(texts))\n",
        "print(\"number of labels: \", len(labels))"
      ],
      "metadata": {
        "colab": {
          "base_uri": "https://localhost:8080/"
        },
        "id": "BY3soBt77EmD",
        "outputId": "d2049aea-8644-488c-88a4-f2a9c9b3ff79"
      },
      "execution_count": null,
      "outputs": [
        {
          "output_type": "stream",
          "name": "stdout",
          "text": [
            "number of texts : 5572\n",
            "number of labels:  5572\n"
          ]
        }
      ]
    },
    {
      "cell_type": "code",
      "source": [
        "from keras.layers import SimpleRNN, Embedding, Dense, LSTM\n",
        "from keras.models import Sequential\n",
        "\n",
        "from keras.preprocessing.text import Tokenizer\n",
        "from keras_preprocessing.sequence import pad_sequences\n",
        "\n",
        "# number of words used as features\n",
        "max_features = 10000\n",
        "# cut off the words after seeing 500 words in each document(email)\n",
        "maxlen = 500\n",
        "\n",
        "\n",
        "# we will use 80% of data as training, 20% as validation data\n",
        "training_samples = int(5572 * .8)\n",
        "validation_samples = int(5572 - training_samples)\n",
        "# sanity check\n",
        "print(len(texts) == (training_samples + validation_samples))\n",
        "print(\"The number of training {0}, validation {1} \".format(training_samples, validation_samples))"
      ],
      "metadata": {
        "colab": {
          "base_uri": "https://localhost:8080/"
        },
        "id": "A96-JEcn7ilZ",
        "outputId": "959cfe5b-e4ca-4699-92bb-61a85dfa15ba"
      },
      "execution_count": null,
      "outputs": [
        {
          "output_type": "stream",
          "name": "stdout",
          "text": [
            "True\n",
            "The number of training 4457, validation 1115 \n"
          ]
        }
      ]
    },
    {
      "cell_type": "code",
      "source": [
        "tokenizer = Tokenizer()\n",
        "tokenizer.fit_on_texts(texts)\n",
        "sequences = tokenizer.texts_to_sequences(texts)\n",
        "\n",
        "word_index = tokenizer.word_index\n",
        "print(\"Found {0} unique words: \".format(len(word_index)))\n",
        "\n",
        "data = pad_sequences(sequences, maxlen=maxlen)\n",
        "\n",
        "print(\"data shape: \", data.shape)\n",
        "\n",
        "np.random.seed(42)\n",
        "\n",
        "indices = np.arange(data.shape[0])\n",
        "np.random.shuffle(indices)\n",
        "data = data[indices]\n",
        "labels = labels[indices]\n",
        "\n",
        "\n",
        "texts_train = data[:training_samples]\n",
        "y_train = labels[:training_samples]\n",
        "texts_test = data[training_samples:]\n",
        "y_test = labels[training_samples:]"
      ],
      "metadata": {
        "colab": {
          "base_uri": "https://localhost:8080/"
        },
        "id": "dbixL5Ll75Na",
        "outputId": "22f6c517-36be-4831-80de-769bc426f228"
      },
      "execution_count": null,
      "outputs": [
        {
          "output_type": "stream",
          "name": "stdout",
          "text": [
            "Found 8536 unique words: \n",
            "data shape:  (5572, 500)\n"
          ]
        }
      ]
    },
    {
      "cell_type": "code",
      "source": [
        "model = Sequential()\n",
        "model.add(Embedding(max_features, 32))\n",
        "model.add(SimpleRNN(32))\n",
        "model.add(Dense(1, activation='sigmoid'))\n",
        "\n",
        "model.compile(optimizer='rmsprop', loss='binary_crossentropy', metrics=['acc'])\n",
        "history_rnn = model.fit(texts_train, y_train, epochs=10, batch_size=64, validation_split=0.2)"
      ],
      "metadata": {
        "colab": {
          "base_uri": "https://localhost:8080/"
        },
        "id": "7ht2SZz08FuU",
        "outputId": "307f9cfc-3d96-460f-9c39-923f59297dfa"
      },
      "execution_count": null,
      "outputs": [
        {
          "output_type": "stream",
          "name": "stdout",
          "text": [
            "Epoch 1/10\n",
            "56/56 [==============================] - 8s 121ms/step - loss: 0.3993 - acc: 0.8637 - val_loss: 0.2944 - val_acc: 0.8913\n",
            "Epoch 2/10\n",
            "56/56 [==============================] - 7s 116ms/step - loss: 0.2179 - acc: 0.9248 - val_loss: 0.1735 - val_acc: 0.9406\n",
            "Epoch 3/10\n",
            "56/56 [==============================] - 7s 117ms/step - loss: 0.1523 - acc: 0.9453 - val_loss: 0.1525 - val_acc: 0.9529\n",
            "Epoch 4/10\n",
            "56/56 [==============================] - 7s 117ms/step - loss: 0.0887 - acc: 0.9731 - val_loss: 0.1386 - val_acc: 0.9585\n",
            "Epoch 5/10\n",
            "56/56 [==============================] - 6s 116ms/step - loss: 0.2398 - acc: 0.9041 - val_loss: 0.5470 - val_acc: 0.7388\n",
            "Epoch 6/10\n",
            "56/56 [==============================] - 7s 116ms/step - loss: 0.2053 - acc: 0.9243 - val_loss: 0.2354 - val_acc: 0.9159\n",
            "Epoch 7/10\n",
            "56/56 [==============================] - 6s 116ms/step - loss: 0.1113 - acc: 0.9624 - val_loss: 0.1522 - val_acc: 0.9585\n",
            "Epoch 8/10\n",
            "56/56 [==============================] - 7s 117ms/step - loss: 0.0519 - acc: 0.9857 - val_loss: 0.1662 - val_acc: 0.9585\n",
            "Epoch 9/10\n",
            "56/56 [==============================] - 6s 116ms/step - loss: 0.0476 - acc: 0.9868 - val_loss: 0.1487 - val_acc: 0.9608\n",
            "Epoch 10/10\n",
            "56/56 [==============================] - 6s 116ms/step - loss: 0.0237 - acc: 0.9938 - val_loss: 0.1769 - val_acc: 0.9484\n"
          ]
        }
      ]
    },
    {
      "cell_type": "code",
      "source": [
        "acc = history_rnn.history['acc']\n",
        "val_acc = history_rnn.history['val_acc']\n",
        "loss = history_rnn.history['loss']\n",
        "val_loss = history_rnn.history['val_loss']\n",
        "epochs = range(len(acc))\n",
        "plt.plot(epochs, acc, '-', color='orange', label='training acc')\n",
        "plt.plot(epochs, val_acc, '-', color='blue', label='validation acc')\n",
        "plt.title('Training and validation accuracy')\n",
        "plt.legend()\n",
        "plt.show()\n",
        "\n",
        "plt.plot(epochs, loss, '-', color='orange', label='training acc')\n",
        "plt.plot(epochs, val_loss,  '-', color='blue', label='validation acc')\n",
        "plt.title('Training and validation loss')\n",
        "plt.legend()\n",
        "plt.show()"
      ],
      "metadata": {
        "colab": {
          "base_uri": "https://localhost:8080/",
          "height": 551
        },
        "id": "mJ7EG8ge8hU8",
        "outputId": "c3f1115e-6590-4c07-a931-f2377740f2a0"
      },
      "execution_count": null,
      "outputs": [
        {
          "output_type": "display_data",
          "data": {
            "text/plain": [
              "<Figure size 432x288 with 1 Axes>"
            ],
            "image/png": "[encoded data removed]"
          },
          "metadata": {}
        },
        {
          "output_type": "display_data",
          "data": {
            "text/plain": [
              "<Figure size 432x288 with 1 Axes>"
            ],
            "image/png": "[encoded data removed]"
          },
          "metadata": {}
        }
      ]
    },
    {
      "cell_type": "code",
      "source": [
        "pred = model.predict(texts_test)\n",
        "acc = model.evaluate(texts_test, y_test)\n",
        "proba_rnn = model.predict(texts_test)\n",
        "from sklearn.metrics import confusion_matrix\n",
        "print(\"Test loss is {0:.2f} and accuracy is {1:.2f}  \".format(acc[0],acc[1]))\n"
      ],
      "metadata": {
        "colab": {
          "base_uri": "https://localhost:8080/"
        },
        "id": "5IQaSyRY8oRP",
        "outputId": "5d249c0f-5421-42d2-9fb9-d47f37e40033"
      },
      "execution_count": null,
      "outputs": [
        {
          "output_type": "stream",
          "name": "stdout",
          "text": [
            "35/35 [==============================] - 1s 24ms/step\n",
            "35/35 [==============================] - 1s 24ms/step - loss: 0.1760 - acc: 0.9417\n",
            "35/35 [==============================] - 1s 23ms/step\n",
            "Test loss is 0.18 and accuracy is 0.94  \n"
          ]
        }
      ]
    },
    {
      "cell_type": "code",
      "source": [],
      "metadata": {
        "id": "KnwoFSHn-qx0"
      },
      "execution_count": null,
      "outputs": []
    },
    {
      "cell_type": "code",
      "source": [
        "model = Sequential()\n",
        "model.add(Embedding(max_features, 32))\n",
        "model.add(LSTM(32))\n",
        "model.add(Dense(1, activation='sigmoid'))\n",
        "model.compile(optimizer='rmsprop', loss='binary_crossentropy', metrics=['acc'])\n",
        "history_ltsm = model.fit(texts_train, y_train, epochs=10, batch_size=64, validation_split=0.2)"
      ],
      "metadata": {
        "colab": {
          "base_uri": "https://localhost:8080/"
        },
        "id": "mBuoewTY-q1c",
        "outputId": "d4b5fc61-9752-4bb6-b93d-718c2731048c"
      },
      "execution_count": null,
      "outputs": [
        {
          "output_type": "stream",
          "name": "stdout",
          "text": [
            "Epoch 1/10\n",
            "56/56 [==============================] - 16s 258ms/step - loss: 0.3479 - acc: 0.8712 - val_loss: 0.2646 - val_acc: 0.8845\n",
            "Epoch 2/10\n",
            "56/56 [==============================] - 16s 280ms/step - loss: 0.1773 - acc: 0.9464 - val_loss: 0.1741 - val_acc: 0.9462\n",
            "Epoch 3/10\n",
            "56/56 [==============================] - 14s 248ms/step - loss: 0.1377 - acc: 0.9647 - val_loss: 0.1336 - val_acc: 0.9619\n",
            "Epoch 4/10\n",
            "56/56 [==============================] - 14s 247ms/step - loss: 0.1019 - acc: 0.9711 - val_loss: 0.1927 - val_acc: 0.9496\n",
            "Epoch 5/10\n",
            "56/56 [==============================] - 14s 247ms/step - loss: 0.1009 - acc: 0.9705 - val_loss: 0.1224 - val_acc: 0.9585\n",
            "Epoch 6/10\n",
            "56/56 [==============================] - 14s 248ms/step - loss: 0.0592 - acc: 0.9860 - val_loss: 0.1207 - val_acc: 0.9664\n",
            "Epoch 7/10\n",
            "56/56 [==============================] - 14s 249ms/step - loss: 0.0810 - acc: 0.9683 - val_loss: 0.1451 - val_acc: 0.9630\n",
            "Epoch 8/10\n",
            "56/56 [==============================] - 14s 250ms/step - loss: 0.0370 - acc: 0.9913 - val_loss: 0.1230 - val_acc: 0.9630\n",
            "Epoch 9/10\n",
            "56/56 [==============================] - 14s 248ms/step - loss: 0.0427 - acc: 0.9871 - val_loss: 0.1719 - val_acc: 0.9608\n",
            "Epoch 10/10\n",
            "56/56 [==============================] - 14s 251ms/step - loss: 0.0297 - acc: 0.9919 - val_loss: 0.1390 - val_acc: 0.9641\n"
          ]
        }
      ]
    },
    {
      "cell_type": "code",
      "source": [
        "acc = history_ltsm.history['acc']\n",
        "val_acc = history_ltsm.history['val_acc']\n",
        "loss = history_ltsm.history['loss']\n",
        "val_loss = history_ltsm.history['val_loss']\n",
        "epochs = range(len(acc))\n",
        "plt.plot(epochs, acc, '-', color='orange', label='training acc')\n",
        "plt.plot(epochs, val_acc, '-', color='blue', label='validation acc')\n",
        "plt.title('Training and validation accuracy')\n",
        "plt.legend()\n",
        "plt.show()\n",
        "\n",
        "plt.plot(epochs, loss, '-', color='orange', label='training acc')\n",
        "plt.plot(epochs, val_loss,  '-', color='blue', label='validation acc')\n",
        "plt.title('Training and validation loss')\n",
        "plt.legend()\n",
        "plt.show()\n"
      ],
      "metadata": {
        "colab": {
          "base_uri": "https://localhost:8080/",
          "height": 551
        },
        "id": "2urIoUoG_jxk",
        "outputId": "e4009d60-658c-437a-9b81-964be8060f58"
      },
      "execution_count": null,
      "outputs": [
        {
          "output_type": "display_data",
          "data": {
            "text/plain": [
              "<Figure size 432x288 with 1 Axes>"
            ],
            "image/png": "[encoded data removed]"
          },
          "metadata": {}
        },
        {
          "output_type": "display_data",
          "data": {
            "text/plain": [
              "<Figure size 432x288 with 1 Axes>"
            ],
            "image/png": "[encoded data removed]"
          },
          "metadata": {}
        }
      ]
    },
    {
      "cell_type": "code",
      "source": [
        "pred = model.predict(texts_test)\n",
        "acc = model.evaluate(texts_test, y_test)\n",
        "proba_ltsm = model.predict(texts_test)\n",
        "from sklearn.metrics import confusion_matrix\n",
        "print(\"Test loss is {0:.2f} accuracy is {1:.2f}  \".format(acc[0],acc[1]))\n"
      ],
      "metadata": {
        "colab": {
          "base_uri": "https://localhost:8080/"
        },
        "id": "2QWddGWi_l75",
        "outputId": "2fb671c2-1dac-47bb-8d1f-3395b5a935a6"
      },
      "execution_count": null,
      "outputs": [
        {
          "output_type": "stream",
          "name": "stdout",
          "text": [
            "35/35 [==============================] - 2s 42ms/step\n",
            "35/35 [==============================] - 1s 41ms/step - loss: 0.1556 - acc: 0.9543\n",
            "35/35 [==============================] - 1s 40ms/step\n",
            "Test loss is 0.16 accuracy is 0.95  \n"
          ]
        }
      ]
    }
  ]
}